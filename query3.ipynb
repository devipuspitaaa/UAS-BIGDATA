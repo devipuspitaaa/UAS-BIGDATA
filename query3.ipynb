{
 "cells": [
  {
   "cell_type": "code",
   "execution_count": null,
   "metadata": {},
   "outputs": [],
   "source": [
    "SELECT term, dma_name FROM `devijb5.google_trends.top_terms` \n",
    "WHERE dma_name = \"Charlotte NC\"\n",
    "GROUP BY term, dma_name;"
   ]
  }
 ],
 "metadata": {
  "language_info": {
   "name": "python"
  },
  "orig_nbformat": 4
 },
 "nbformat": 4,
 "nbformat_minor": 2
}
