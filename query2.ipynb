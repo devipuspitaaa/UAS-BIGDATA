{
 "cells": [
  {
   "cell_type": "code",
   "execution_count": null,
   "metadata": {},
   "outputs": [],
   "source": [
    "SELECT dma_id, dma_name, score, FROM `devijb5.google_trends.top_terms` \n",
    "WHERE refresh_date = \"2022-05-01\" LIMIT 1000"
   ]
  }
 ],
 "metadata": {
  "language_info": {
   "name": "python"
  },
  "orig_nbformat": 4
 },
 "nbformat": 4,
 "nbformat_minor": 2
}
